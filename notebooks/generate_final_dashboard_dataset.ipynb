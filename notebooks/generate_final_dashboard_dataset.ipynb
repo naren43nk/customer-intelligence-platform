{
 "cells": [
  {
   "cell_type": "code",
   "execution_count": 4,
   "id": "8264c46a-db92-4670-98c8-373e9aa1700b",
   "metadata": {},
   "outputs": [
    {
     "name": "stdout",
     "output_type": "stream",
     "text": [
      "✅ Saved: final_dashboard_dataset.csv\n"
     ]
    }
   ],
   "source": [
    "import pandas as pd\n",
    "from datetime import timedelta\n",
    "\n",
    "# Load cleaned retail data\n",
    "df = pd.read_csv('../data/cleaned_retail.csv', parse_dates=['InvoiceDate'])\n",
    "\n",
    "# Fix inconsistent column names\n",
    "df.rename(columns={'Customer ID': 'CustomerID'}, inplace=True)\n",
    "\n",
    "# Ensure valid data\n",
    "df = df[df['Quantity'] > 0]\n",
    "df = df[df['CustomerID'].notnull()]\n",
    "df['CustomerID'] = df['CustomerID'].astype(int)\n",
    "\n",
    "# Create TotalPrice column\n",
    "df['TotalPrice'] = df['Quantity'] * df['Price']\n",
    "\n",
    "# Snapshot date for recency\n",
    "snapshot_date = df['InvoiceDate'].max() + timedelta(days=1)\n",
    "\n",
    "# Base RFM features\n",
    "rfm = df.groupby('CustomerID').agg({\n",
    "    'InvoiceDate': lambda x: (snapshot_date - x.max()).days,\n",
    "    'Invoice': 'nunique',\n",
    "    'TotalPrice': 'sum'\n",
    "}).reset_index()\n",
    "rfm.columns = ['CustomerID', 'Recency', 'Frequency', 'Monetary']\n",
    "\n",
    "# Total products purchased\n",
    "total_products = df.groupby('CustomerID')['Quantity'].sum().reset_index(name='TotalProductsPurchased')\n",
    "\n",
    "# Unique products\n",
    "unique_products = df.groupby('CustomerID')['Description'].nunique().reset_index(name='UniqueProducts')\n",
    "\n",
    "# Avg basket size\n",
    "basket = df.groupby('CustomerID').agg({\n",
    "    'TotalPrice': 'sum',\n",
    "    'Invoice': 'nunique'\n",
    "}).reset_index()\n",
    "basket['AvgBasketSize'] = basket['TotalPrice'] / basket['Invoice']\n",
    "basket = basket[['CustomerID', 'AvgBasketSize']]\n",
    "\n",
    "# Avg days between purchases\n",
    "invoice_dates = df.groupby('CustomerID')['InvoiceDate'].agg(['min', 'max', 'count']).reset_index()\n",
    "invoice_dates['AvgDaysBetweenPurchases'] = invoice_dates.apply(\n",
    "    lambda row: (row['max'] - row['min']).days / (row['count'] - 1) if row['count'] > 1 else 0, axis=1)\n",
    "invoice_dates['DaysSinceFirstPurchase'] = (snapshot_date - invoice_dates['min']).dt.days\n",
    "invoice_dates = invoice_dates[['CustomerID', 'AvgDaysBetweenPurchases', 'DaysSinceFirstPurchase']]\n",
    "\n",
    "# Cancellation rate\n",
    "df['IsCancelled'] = df['Invoice'].astype(str).str.startswith('C').astype(int)\n",
    "cancellations = df.groupby('CustomerID')['IsCancelled'].mean().reset_index(name='CancellationRate')\n",
    "\n",
    "# Merge everything\n",
    "features = rfm.merge(total_products, on='CustomerID', how='left') \\\n",
    "              .merge(unique_products, on='CustomerID', how='left') \\\n",
    "              .merge(basket, on='CustomerID', how='left') \\\n",
    "              .merge(invoice_dates, on='CustomerID', how='left') \\\n",
    "              .merge(cancellations, on='CustomerID', how='left')\n",
    "\n",
    "# Load segments\n",
    "segments = pd.read_csv('../data/customer_segments.csv')[['CustomerID', 'Segment']]\n",
    "\n",
    "# Merge with features\n",
    "final_df = features.merge(segments, on='CustomerID', how='left')\n",
    "\n",
    "# Save final dataset for dashboard\n",
    "final_df.to_csv('../data/final_dashboard_dataset.csv', index=False)\n",
    "print(\"✅ Saved: final_dashboard_dataset.csv\")\n"
   ]
  }
 ],
 "metadata": {
  "kernelspec": {
   "display_name": "Python 3 (ipykernel)",
   "language": "python",
   "name": "python3"
  },
  "language_info": {
   "codemirror_mode": {
    "name": "ipython",
    "version": 3
   },
   "file_extension": ".py",
   "mimetype": "text/x-python",
   "name": "python",
   "nbconvert_exporter": "python",
   "pygments_lexer": "ipython3",
   "version": "3.11.8"
  }
 },
 "nbformat": 4,
 "nbformat_minor": 5
}
